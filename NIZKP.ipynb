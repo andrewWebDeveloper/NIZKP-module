{
  "nbformat": 4,
  "nbformat_minor": 0,
  "metadata": {
    "colab": {
      "provenance": []
    },
    "kernelspec": {
      "name": "python3",
      "display_name": "Python 3"
    },
    "language_info": {
      "name": "python"
    }
  },
  "cells": [
    {
      "cell_type": "code",
      "execution_count": 1,
      "metadata": {
        "id": "VELp8L42J8HI"
      },
      "outputs": [],
      "source": [
        "import hashlib\n",
        "import random\n",
        "\n",
        "# Define the Schnorr signature protocol\n",
        "def schnorr_signature(msg, priv_key):\n",
        "    r = random.randint(1, q - 1)  # Choose a random nonce r\n",
        "    R = pow(g, r, p)  # Compute R = g^r mod p\n",
        "    h = int(hashlib.sha256(msg.encode()).hexdigest(), 16)  # Compute the hash of the message\n",
        "    s = (r + priv_key * h) % q  # Compute s = r + x * h mod q\n",
        "    return (R, s)\n",
        "\n",
        "# Define the NIZKP protocol\n",
        "def nizkp(msg, R, s):\n",
        "    c = int(hashlib.sha256((str(g) + str(R) + msg).encode()).hexdigest(), 16)  # Compute the challenge c\n",
        "    z = (s + c * priv_key) % q  # Compute the response z = s + x * c mod q\n",
        "    return (c, z)\n",
        "\n",
        "# Define the verification function for the NIZKP protocol\n",
        "def verify_nizkp(msg, R, c, z):\n",
        "    # Recompute the challenge c\n",
        "    c_prime = int(hashlib.sha256((str(g) + str(R) + msg).encode()).hexdigest(), 16)\n",
        "    # Verify that the challenge is the same as the original\n",
        "    if c_prime != c:\n",
        "        return False\n",
        "    # Verify that z = s + x * c mod q\n",
        "    V = (pow(g, z, p) * pow(y, c, p)) % p\n",
        "    if V == R:\n",
        "        return True\n",
        "    else:\n",
        "        return False"
      ]
    },
    {
      "cell_type": "code",
      "source": [
        "!pip install Crypto\n",
        "\n",
        "from cryptography.hazmat.primitives import hashes\n",
        "from cryptography.hazmat.primitives.asymmetric.utils import (\n",
        "    encode_dss_signature, decode_dss_signature)\n",
        "from cryptography.hazmat.primitives.serialization import (\n",
        "    Encoding, PublicFormat)\n",
        "from cryptography.hazmat.backends import default_backend\n",
        "from cryptography.exceptions import InvalidSignature\n",
        "\n",
        "import secrets\n",
        "\n",
        "# Generate a random 256-bit prime number\n",
        "def generate_prime():\n",
        "    while True:\n",
        "        p = secrets.randbits(256)\n",
        "        if is_prime(p):\n",
        "            return p\n",
        "\n",
        "# Check if a number is prime\n",
        "def is_prime(n):\n",
        "    if n < 2:\n",
        "        return False\n",
        "    for i in range(2, int(n**0.5)+1):\n",
        "        if n % i == 0:\n",
        "            return False\n",
        "    return True\n",
        "\n",
        "# Generate a random generator for a prime field\n",
        "def generate_generator(p):\n",
        "    g = 2\n",
        "    while pow(g, (p-1)//2, p) == 1 or pow(g, 2, p) == 1:\n",
        "        g += 1\n",
        "    return g\n",
        "\n",
        "# Generate a private/public key pair\n",
        "def generate_key_pair(p, g):\n",
        "    x = secrets.randbelow(p-1)\n",
        "    y = pow(g, x, p)\n",
        "    return x, y\n",
        "\n",
        "# Compute the challenge value for the proof\n",
        "def compute_challenge(*args):\n",
        "    h = hashes.Hash(hashes.SHA256(), backend=default_backend())\n",
        "    for arg in args:\n",
        "        h.update(int.to_bytes(arg, 32, byteorder='big'))\n",
        "    return int.from_bytes(h.finalize(), byteorder='big')\n",
        "\n",
        "# Compute the proof of knowledge for a discrete logarithm\n",
        "def prove_dlog(p, g, x):\n",
        "    # Generate a random number r\n",
        "    r = secrets.randbelow(p-1)\n",
        "    # Compute the commitment value\n",
        "    A = pow(g, r, p)\n",
        "    # Compute the challenge value\n",
        "    c = compute_challenge(p, g, A)\n",
        "    # Compute the response value\n",
        "    z = (r + c*x) % (p-1)\n",
        "    # Return the proof (A, z)\n",
        "    return A, z\n",
        "\n",
        "# Verify the proof of knowledge for a discrete logarithm\n",
        "def verify_dlog(p, g, y, proof):\n",
        "    A, z = proof\n",
        "    # Check that A is a valid element in the prime field\n",
        "    if A <= 0 or A >= p:\n",
        "        return False\n",
        "    # Compute the challenge value\n",
        "    c = compute_challenge(p, g, A)\n",
        "    # Check that A is a valid commitment value\n",
        "    if pow(g, z, p) != (A * pow(y, c, p)) % p:\n",
        "        return False\n",
        "    # The proof is valid\n",
        "    return True\n"
      ],
      "metadata": {
        "colab": {
          "base_uri": "https://localhost:8080/"
        },
        "id": "zQxU5r_fKBqc",
        "outputId": "03d38ee4-8ca8-4b67-c571-ad10da94d770"
      },
      "execution_count": 2,
      "outputs": [
        {
          "output_type": "stream",
          "name": "stdout",
          "text": [
            "Looking in indexes: https://pypi.org/simple, https://us-python.pkg.dev/colab-wheels/public/simple/\n",
            "Collecting Crypto\n",
            "  Downloading crypto-1.4.1-py2.py3-none-any.whl (18 kB)\n",
            "Collecting shellescape\n",
            "  Downloading shellescape-3.8.1-py2.py3-none-any.whl (3.1 kB)\n",
            "Collecting Naked\n",
            "  Downloading Naked-0.1.32-py2.py3-none-any.whl (587 kB)\n",
            "\u001b[2K     \u001b[90m━━━━━━━━━━━━━━━━━━━━━━━━━━━━━━━━━━━━━━━\u001b[0m \u001b[32m587.7/587.7 KB\u001b[0m \u001b[31m9.8 MB/s\u001b[0m eta \u001b[36m0:00:00\u001b[0m\n",
            "\u001b[?25hRequirement already satisfied: requests in /usr/local/lib/python3.9/dist-packages (from Naked->Crypto) (2.27.1)\n",
            "Requirement already satisfied: pyyaml in /usr/local/lib/python3.9/dist-packages (from Naked->Crypto) (6.0)\n",
            "Requirement already satisfied: idna<4,>=2.5 in /usr/local/lib/python3.9/dist-packages (from requests->Naked->Crypto) (3.4)\n",
            "Requirement already satisfied: certifi>=2017.4.17 in /usr/local/lib/python3.9/dist-packages (from requests->Naked->Crypto) (2022.12.7)\n",
            "Requirement already satisfied: urllib3<1.27,>=1.21.1 in /usr/local/lib/python3.9/dist-packages (from requests->Naked->Crypto) (1.26.15)\n",
            "Requirement already satisfied: charset-normalizer~=2.0.0 in /usr/local/lib/python3.9/dist-packages (from requests->Naked->Crypto) (2.0.12)\n",
            "Installing collected packages: shellescape, Naked, Crypto\n",
            "Successfully installed Crypto-1.4.1 Naked-0.1.32 shellescape-3.8.1\n"
          ]
        }
      ]
    },
    {
      "cell_type": "code",
      "source": [
        "import numpy as np\n",
        "import sympy as sp\n",
        "\n",
        "# Define the variables\n",
        "p = 17\n",
        "q = 19\n",
        "g = 3\n",
        "\n",
        "# Define the functions\n",
        "def mod_inverse(a, m):\n",
        "    return pow(a, -1, m)\n",
        "\n",
        "def mod_exp(base, exponent, modulus):\n",
        "    return pow(base, exponent, modulus)\n",
        "\n",
        "# Define the NIZKP module\n",
        "def nizkp_module(a, b, r):\n",
        "    A = mod_exp(g, a, p)\n",
        "    B = mod_exp(g, b, p)\n",
        "    c = np.random.randint(0, q)\n",
        "    R = mod_exp(g, r, p)\n",
        "    T1 = mod_exp(A, c, p)\n",
        "    T2 = mod_exp(B, c, p)\n",
        "    S = (R * mod_exp(T1, b, p) * mod_exp(T2, mod_inverse(r, q), p)) % p\n",
        "    return A, B, R, S, c\n",
        "\n",
        "# Test the NIZKP module\n",
        "a = np.random.randint(0, q)\n",
        "b = np.random.randint(0, q)\n",
        "r = np.random.randint(0, q)\n",
        "print(nizkp_module(a, b, r))"
      ],
      "metadata": {
        "colab": {
          "base_uri": "https://localhost:8080/"
        },
        "id": "D9TFkbLOKI2B",
        "outputId": "9ae09b22-0fb0-4b49-98f0-81f419d78a84"
      },
      "execution_count": 3,
      "outputs": [
        {
          "output_type": "stream",
          "name": "stdout",
          "text": [
            "(4, 2, 9, 8, 6)\n"
          ]
        }
      ]
    }
  ]
}